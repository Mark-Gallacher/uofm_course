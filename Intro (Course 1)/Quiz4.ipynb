{
 "cells": [
  {
   "cell_type": "code",
   "execution_count": 19,
   "id": "1ebdec45",
   "metadata": {},
   "outputs": [],
   "source": [
    "import pandas as pd\n",
    "import numpy as np\n",
    "import re"
   ]
  },
  {
   "cell_type": "code",
   "execution_count": 18,
   "id": "4c9eb867",
   "metadata": {},
   "outputs": [
    {
     "data": {
      "text/plain": [
       "46"
      ]
     },
     "execution_count": 18,
     "metadata": {},
     "output_type": "execute_result"
    }
   ],
   "source": [
    "# Q1\n",
    "a = np.arange(8)\n",
    "b = a[4:6]\n",
    "b[:] = 40\n",
    "c = a[4] + a[6]\n",
    "c"
   ]
  },
  {
   "cell_type": "code",
   "execution_count": 30,
   "id": "3fa2ec8b",
   "metadata": {},
   "outputs": [
    {
     "data": {
      "text/plain": [
       "['', 'BC', 'C']"
      ]
     },
     "execution_count": 30,
     "metadata": {},
     "output_type": "execute_result"
    }
   ],
   "source": [
    "# Q2\n",
    "s = 'ABCAC'\n",
    "re.search('A', s) # Onliy finds first item\n",
    "re.match('A', s) == True # needs to be converted as a boolean first\n",
    "re.split('A', s) # returns three strings\n"
   ]
  },
  {
   "cell_type": "code",
   "execution_count": 47,
   "id": "af001739",
   "metadata": {},
   "outputs": [
    {
     "data": {
      "text/plain": [
       "['C', 'F', 'B']"
      ]
     },
     "execution_count": 47,
     "metadata": {},
     "output_type": "execute_result"
    }
   ],
   "source": [
    "# Q3\n",
    "s = 'ACAABAACAAABACDBADDDFSDDDFFSSSASDAFAAACBAAAFASD'\n",
    "\n",
    "result = []\n",
    "\n",
    "for item in re.finditer('(.)(?=A{3,3})', s):\n",
    "    result.append(item.group())\n",
    "result"
   ]
  },
  {
   "cell_type": "code",
   "execution_count": 57,
   "id": "86169913",
   "metadata": {},
   "outputs": [
    {
     "data": {
      "text/plain": [
       "4"
      ]
     },
     "execution_count": 57,
     "metadata": {},
     "output_type": "execute_result"
    }
   ],
   "source": [
    "# Q4\n",
    "df = pd.Series([4,7,-5,3], index = list('dbac'))\n",
    "df[0]\n",
    "df.iloc[0]\n",
    "df.index[0] # only one that doesn't return the value\n",
    "df['d']"
   ]
  },
  {
   "cell_type": "code",
   "execution_count": 71,
   "id": "31940155",
   "metadata": {},
   "outputs": [],
   "source": [
    "# Q5\n",
    "s1 = pd.Series([20, 15, 18, 31], \n",
    "               index = ['Mango', 'Strawberry', 'Blueberry', 'Vanilla'])\n",
    "s2 = pd.Series([20, 30, 15, 20, 20], \n",
    "               index = ['Strawberry', 'Vanilla', 'Banana', 'Mango', 'Plain'])\n",
    "\n",
    "s3 = s1.add(s2) # adding values together, so need same index in both series"
   ]
  },
  {
   "cell_type": "code",
   "execution_count": 122,
   "id": "9366fb8f",
   "metadata": {},
   "outputs": [
    {
     "name": "stdout",
     "output_type": "stream",
     "text": [
      "Int64Index([0, 1, 2, 3, 4], dtype='int64')\n",
      "   index         0         1         2         3         4\n",
      "0      0  0.866643  0.585033  0.086810  0.779986  0.350380\n",
      "1      1  0.860264  0.453692  0.529263  0.160842  0.270964\n",
      "2      2  0.213077  0.812635  0.175233  0.077757  0.941423\n",
      "3      3  0.188529  0.526511  0.947283  0.399977  0.169219\n",
      "4      4  0.423771  0.374612  0.139540  0.817330  0.931516\n",
      "                 0         1         2         3         4\n",
      "2                                                         \n",
      "0.086810  0.866643  0.585033  0.086810  0.779986  0.350380\n",
      "0.529263  0.860264  0.453692  0.529263  0.160842  0.270964\n",
      "0.175233  0.213077  0.812635  0.175233  0.077757  0.941423\n",
      "0.947283  0.188529  0.526511  0.947283  0.399977  0.169219\n",
      "0.139540  0.423771  0.374612  0.139540  0.817330  0.931516\n",
      "   index         0         1         2         3         4\n",
      "0      0  0.866643  0.585033  0.086810  0.779986  0.350380\n",
      "1      1  0.860264  0.453692  0.529263  0.160842  0.270964\n",
      "2      2  0.213077  0.812635  0.175233  0.077757  0.941423\n",
      "3      3  0.188529  0.526511  0.947283  0.399977  0.169219\n",
      "4      4  0.423771  0.374612  0.139540  0.817330  0.931516\n",
      "                 0         1         2         3         4\n",
      "0                                                         \n",
      "0.866643  0.866643  0.585033  0.086810  0.779986  0.350380\n",
      "0.860264  0.860264  0.453692  0.529263  0.160842  0.270964\n",
      "0.213077  0.213077  0.812635  0.175233  0.077757  0.941423\n",
      "0.188529  0.188529  0.526511  0.947283  0.399977  0.169219\n",
      "0.423771  0.423771  0.374612  0.139540  0.817330  0.931516\n"
     ]
    }
   ],
   "source": [
    "# Q6\n",
    "\n",
    "df1 = pd.DataFrame(np.random.random(5) for x in range(5))\n",
    "print(pd.to_numeric(df1.index))\n",
    "print(df1.reset_index())\n",
    "print(df1.set_index(df1[2]))\n",
    "print(df1.reset_index())\n",
    "print(df1.set_index(df1[0]))"
   ]
  },
  {
   "cell_type": "code",
   "execution_count": 130,
   "id": "16bc26fa",
   "metadata": {},
   "outputs": [
    {
     "data": {
      "text/plain": [
       "b    1\n",
       "c    2\n",
       "d    3\n",
       "dtype: int32"
      ]
     },
     "execution_count": 130,
     "metadata": {},
     "output_type": "execute_result"
    }
   ],
   "source": [
    "# Q7\n",
    "S = pd.Series(np.arange(5), index=['a', 'b', 'c', 'd', 'e'])\n",
    "S['b':'e'] # this in inclusive when string\n",
    "S[1:4]  # this is exclusive when integer\n",
    "S[['b', 'c', 'd']]  # This is useful panda notation\n",
    "S[S <= 3][S > 0]"
   ]
  },
  {
   "cell_type": "code",
   "execution_count": 140,
   "id": "7ba65e4b",
   "metadata": {},
   "outputs": [
    {
     "data": {
      "text/plain": [
       "a     76\n",
       "b     88\n",
       "c    112\n",
       "dtype: int64"
      ]
     },
     "execution_count": 140,
     "metadata": {},
     "output_type": "execute_result"
    }
   ],
   "source": [
    "# Q8\n",
    "\n",
    "df = pd.DataFrame({'a':[5,5,71,67],\n",
    "                   'b':[6,82,31,37],\n",
    "                   'c':[20,28,92,49]},\n",
    "                  index = ['R1', 'R2', 'R3','R4'])# Q8\n",
    "\n",
    "f = lambda x: x.max() + x.min()\n",
    "df_new = df.apply(f, axis = 0) # applies to columns?\n",
    "df_new"
   ]
  },
  {
   "cell_type": "code",
   "execution_count": 165,
   "id": "d77cbcb5",
   "metadata": {},
   "outputs": [
    {
     "data": {
      "text/html": [
       "<div>\n",
       "<style scoped>\n",
       "    .dataframe tbody tr th:only-of-type {\n",
       "        vertical-align: middle;\n",
       "    }\n",
       "\n",
       "    .dataframe tbody tr th {\n",
       "        vertical-align: top;\n",
       "    }\n",
       "\n",
       "    .dataframe thead th {\n",
       "        text-align: right;\n",
       "    }\n",
       "</style>\n",
       "<table border=\"1\" class=\"dataframe\">\n",
       "  <thead>\n",
       "    <tr style=\"text-align: right;\">\n",
       "      <th></th>\n",
       "      <th>0</th>\n",
       "      <th>1</th>\n",
       "      <th>2</th>\n",
       "      <th>3</th>\n",
       "      <th>4</th>\n",
       "      <th>5</th>\n",
       "    </tr>\n",
       "  </thead>\n",
       "  <tbody>\n",
       "    <tr>\n",
       "      <th>Item</th>\n",
       "      <td>item_1</td>\n",
       "      <td>item_1</td>\n",
       "      <td>item_1</td>\n",
       "      <td>item_2</td>\n",
       "      <td>item_2</td>\n",
       "      <td>item_2</td>\n",
       "    </tr>\n",
       "    <tr>\n",
       "      <th>Store</th>\n",
       "      <td>A</td>\n",
       "      <td>B</td>\n",
       "      <td>C</td>\n",
       "      <td>A</td>\n",
       "      <td>B</td>\n",
       "      <td>C</td>\n",
       "    </tr>\n",
       "    <tr>\n",
       "      <th>Sold</th>\n",
       "      <td>10</td>\n",
       "      <td>20</td>\n",
       "      <td>NaN</td>\n",
       "      <td>5</td>\n",
       "      <td>10</td>\n",
       "      <td>15</td>\n",
       "    </tr>\n",
       "  </tbody>\n",
       "</table>\n",
       "</div>"
      ],
      "text/plain": [
       "            0       1       2       3       4       5\n",
       "Item   item_1  item_1  item_1  item_2  item_2  item_2\n",
       "Store       A       B       C       A       B       C\n",
       "Sold       10      20     NaN       5      10      15"
      ]
     },
     "execution_count": 165,
     "metadata": {},
     "output_type": "execute_result"
    }
   ],
   "source": [
    "# Q10\n",
    "df = pd.DataFrame({'Item':\n",
    "                   ['item_1','item_1','item_1','item_2','item_2','item_2'],\n",
    "                  'Store':\n",
    "                   ['A', 'B', 'C', 'A', 'B', 'C'],\n",
    "                  'Sold': [10, 20, 'NaN', 5, 10, 15]},\n",
    "                 index = range(6))\n",
    "df.unstack().unstack()"
   ]
  }
 ],
 "metadata": {
  "kernelspec": {
   "display_name": "Python 3 (ipykernel)",
   "language": "python",
   "name": "python3"
  },
  "language_info": {
   "codemirror_mode": {
    "name": "ipython",
    "version": 3
   },
   "file_extension": ".py",
   "mimetype": "text/x-python",
   "name": "python",
   "nbconvert_exporter": "python",
   "pygments_lexer": "ipython3",
   "version": "3.10.4"
  }
 },
 "nbformat": 4,
 "nbformat_minor": 5
}
