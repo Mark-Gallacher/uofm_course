{
 "cells": [
  {
   "cell_type": "code",
   "execution_count": 5,
   "id": "0de8c7fe-1cc7-4477-abc8-adf84fdc5396",
   "metadata": {},
   "outputs": [
    {
     "name": "stdout",
     "output_type": "stream",
     "text": [
      "C:\\Users\\markg\\Documents\\Python\\UofM Course\\week1\n"
     ]
    },
    {
     "data": {
      "text/plain": [
       "'C:\\\\Users\\\\markg\\\\Documents\\\\Python\\\\UofM Course\\\\week1'"
      ]
     },
     "execution_count": 5,
     "metadata": {},
     "output_type": "execute_result"
    }
   ],
   "source": [
    "%cd C:\\Users\\markg\\Documents\\Python\\UofM Course\\week1\n",
    "%pwd"
   ]
  },
  {
   "cell_type": "code",
   "execution_count": 47,
   "id": "5b84a673-ab3b-4a3d-93b1-d259694d0313",
   "metadata": {},
   "outputs": [],
   "source": [
    "import pandas as pd\n",
    "import numpy as np"
   ]
  },
  {
   "cell_type": "markdown",
   "id": "ff3211cc",
   "metadata": {},
   "source": [
    "## Question 1\n",
    "#### Write a function called proportion_of_education which returns the proportion of children in the dataset who had a mother with the education levels equal to less than high school (<12), high school (12), more than high school but not a college graduate (>12) and college degree.\n",
    "\n",
    "This function should return a dictionary"
   ]
  },
  {
   "cell_type": "markdown",
   "id": "f8e5a601",
   "metadata": {},
   "source": [
    "### Draft 1"
   ]
  },
  {
   "cell_type": "code",
   "execution_count": 93,
   "id": "3f49b07a-0e87-4818-a1c4-a29134c0e4f4",
   "metadata": {},
   "outputs": [
    {
     "data": {
      "text/plain": [
       "28465"
      ]
     },
     "execution_count": 93,
     "metadata": {},
     "output_type": "execute_result"
    }
   ],
   "source": [
    "# Read in csv and  select two columns in dataframe\n",
    "df = pd.read_csv('UofM Course/datasets/NISPUF17.csv')\n",
    "df = df[['SEQNUMC', 'EDUC1']]\n",
    "\n",
    "# Get number of children, specify child column\n",
    "num_child = df['SEQNUMC'].count()\n",
    "num_child"
   ]
  },
  {
   "cell_type": "code",
   "execution_count": 138,
   "id": "322f3f03",
   "metadata": {},
   "outputs": [
    {
     "name": "stdout",
     "output_type": "stream",
     "text": [
      "{'less than high school': 0.10202002459160373, 'high school': 0.172352011241876, 'more than high school but not college': 0.24588090637625154, 'college': 0.47974705779026877}\n",
      "{'less than high school': 0.10202002459160373, 'high school': 0.172352011241876, 'more than high school but not college': 0.24588090637625154, 'college': 0.47974705779026877}\n"
     ]
    },
    {
     "data": {
      "text/plain": [
       "0.10202002459160373"
      ]
     },
     "execution_count": 138,
     "metadata": {},
     "output_type": "execute_result"
    }
   ],
   "source": [
    "#Create empty dictionary to have somewhere to put values\n",
    "prop_edu = {\"less than high school\":0,\n",
    "            \"high school\":0,\n",
    "            \"more than high school but not college\":0,\n",
    "            \"college\":0}\n",
    "\n",
    "# Might be quicker to do this?\n",
    "prop_edu[\"less than high school\"] = np.sum(df[\"EDUC1\"] ==1)/num_child\n",
    "prop_edu[\"high school\"] = np.sum(df[\"EDUC1\"] ==2)/num_child\n",
    "prop_edu[\"more than high school but not college\"] = np.sum(df[\"EDUC1\"] ==3)/num_child\n",
    "prop_edu[\"college\"] = np.sum(df[\"EDUC1\"] ==4)/num_child\n",
    "\n",
    "print(prop_edu)\n",
    "\n",
    "# for loop - might be too slow\n",
    "for k in prop_edu.keys():\n",
    "    if k == 'less than high school':\n",
    "            prop_edu[k] = np.sum(df[\"EDUC1\"] ==1)/num_child\n",
    "    if k == 'high school':\n",
    "            prop_edu[k] =  np.sum(df[\"EDUC1\"] ==2)/num_child\n",
    "    if k == 'more than high school but not college':\n",
    "            prop_edu[k] =  np.sum(df[\"EDUC1\"] ==3)/num_child\n",
    "    if k == 'college':\n",
    "            prop_edu[k] =  np.sum(df[\"EDUC1\"] ==4)/num_child\n",
    "    \n",
    "print(prop_edu)\n",
    "\n",
    "\n",
    "\n",
    "\n",
    "prop_edu['less than high school']"
   ]
  },
  {
   "cell_type": "markdown",
   "id": "dba5fea7",
   "metadata": {},
   "source": [
    "### Final Answer"
   ]
  },
  {
   "cell_type": "code",
   "execution_count": 139,
   "id": "ef492fe5",
   "metadata": {},
   "outputs": [
    {
     "data": {
      "text/plain": [
       "{'less than high school': 0.10202002459160373,\n",
       " 'high school': 0.172352011241876,\n",
       " 'more than high school but not college': 0.24588090637625154,\n",
       " 'college': 0.47974705779026877}"
      ]
     },
     "execution_count": 139,
     "metadata": {},
     "output_type": "execute_result"
    }
   ],
   "source": [
    "def proportion_of_education():\n",
    "    import pandas as pd\n",
    "    import numpy as np\n",
    "    \n",
    "    # Read in csv and  select two columns in dataframe\n",
    "    df = pd.read_csv('UofM Course/datasets/NISPUF17.csv')\n",
    "    df = df[['SEQNUMC', 'EDUC1']]\n",
    "\n",
    "    # Get number of children, specify child column\n",
    "    num_child = df['SEQNUMC'].count()\n",
    "\n",
    "    #Create empty dictionary to have somewhere to put values\n",
    "    prop_edu = {\"less than high school\":0,\n",
    "            \"high school\":0,\n",
    "            \"more than high school but not college\":0,\n",
    "            \"college\":0}\n",
    "\n",
    "    for k in prop_edu.keys():\n",
    "        if k == 'less than high school':\n",
    "                prop_edu[k] = np.sum(df[\"EDUC1\"] ==1)/num_child\n",
    "        if k == 'high school':\n",
    "                prop_edu[k] =  np.sum(df[\"EDUC1\"] ==2)/num_child\n",
    "        if k == 'more than high school but not college':\n",
    "                prop_edu[k] =  np.sum(df[\"EDUC1\"] ==3)/num_child\n",
    "        if k == 'college':\n",
    "                prop_edu[k] =  np.sum(df[\"EDUC1\"] ==4)/num_child\n",
    "    \n",
    "    return(prop_edu)\n",
    "\n",
    "proportion_of_education()"
   ]
  },
  {
   "cell_type": "markdown",
   "id": "01c2d27c",
   "metadata": {},
   "source": [
    "## Question 2\n",
    "#### Let's explore the relationship between being fed breastmilk as a child and getting a seasonal influenza vaccine from a healthcare provider. Return a tuple of the average number of influenza vaccines for those children we know received breastmilk as a child and those who know did not.\n",
    "\n",
    "This function should return a tuple in the form"
   ]
  },
  {
   "cell_type": "markdown",
   "id": "ea002146",
   "metadata": {},
   "source": [
    "### Draft 1"
   ]
  },
  {
   "cell_type": "code",
   "execution_count": 176,
   "id": "e0a3ab58",
   "metadata": {},
   "outputs": [
    {
     "ename": "TypeError",
     "evalue": "'int' object does not support item assignment",
     "output_type": "error",
     "traceback": [
      "\u001b[1;31m---------------------------------------------------------------------------\u001b[0m",
      "\u001b[1;31mTypeError\u001b[0m                                 Traceback (most recent call last)",
      "Input \u001b[1;32mIn [176]\u001b[0m, in \u001b[0;36m<cell line: 4>\u001b[1;34m()\u001b[0m\n\u001b[0;32m      2\u001b[0m df \u001b[38;5;241m=\u001b[39m pd\u001b[38;5;241m.\u001b[39mread_csv(\u001b[38;5;124m'\u001b[39m\u001b[38;5;124mUofM Course/datasets/NISPUF17.csv\u001b[39m\u001b[38;5;124m'\u001b[39m)\n\u001b[0;32m      3\u001b[0m df_flu \u001b[38;5;241m=\u001b[39m df[[\u001b[38;5;124m'\u001b[39m\u001b[38;5;124mCBF_01\u001b[39m\u001b[38;5;124m'\u001b[39m, \u001b[38;5;124m'\u001b[39m\u001b[38;5;124mP_NUMFLU\u001b[39m\u001b[38;5;124m'\u001b[39m]]\n\u001b[1;32m----> 4\u001b[0m df_flu \u001b[38;5;241m=\u001b[39m df_flu[np\u001b[38;5;241m.\u001b[39misnan(df_flu)] \u001b[38;5;241m=\u001b[39m \u001b[38;5;241m0\u001b[39m \n\u001b[0;32m      5\u001b[0m df_flu\n\u001b[0;32m      8\u001b[0m \u001b[38;5;66;03m# Spliting df by breastfed or not, droping na values\u001b[39;00m\n",
      "\u001b[1;31mTypeError\u001b[0m: 'int' object does not support item assignment"
     ]
    }
   ],
   "source": [
    "# Reading in the data and selecting breastfeeding and flu vaccine columns\n",
    "df = pd.read_csv('UofM Course/datasets/NISPUF17.csv')\n",
    "df_flu = df[['CBF_01', 'P_NUMFLU']]\n",
    "df_flu\n",
    "\n",
    "\n",
    "# Spliting df by breastfed or not, droping na values\n",
    "b_flu = df_flu[df_flu['CBF_01'] ==1].dropna()\n",
    "nb_flu = df_flu[df_flu['CBF_01'] ==2].dropna()\n"
   ]
  },
  {
   "cell_type": "code",
   "execution_count": 178,
   "id": "629a7c0b",
   "metadata": {},
   "outputs": [
    {
     "data": {
      "text/plain": [
       "(1.8799187420058687, 1.5963945918878317)"
      ]
     },
     "execution_count": 178,
     "metadata": {},
     "output_type": "execute_result"
    }
   ],
   "source": [
    "m_b_flu = b_flu['P_NUMFLU'].mean()\n",
    "m_nb_flu = nb_flu['P_NUMFLU'].mean()\n",
    "\n",
    "result = (m_b_flu, m_nb_flu)\n",
    "result"
   ]
  },
  {
   "cell_type": "markdown",
   "id": "437ea22b",
   "metadata": {},
   "source": [
    "### FInal Answer"
   ]
  },
  {
   "cell_type": "code",
   "execution_count": 180,
   "id": "053e268e",
   "metadata": {},
   "outputs": [
    {
     "data": {
      "text/plain": [
       "(1.8799187420058687, 1.5963945918878317)"
      ]
     },
     "execution_count": 180,
     "metadata": {},
     "output_type": "execute_result"
    }
   ],
   "source": [
    "def average_influenza_doses():\n",
    "    import pandas as pd\n",
    "    \n",
    "    # Reading in the data and selecting breastfeeding and flu vaccine columns\n",
    "    df = pd.read_csv('UofM Course/datasets/NISPUF17.csv')\n",
    "    df_flu = df[['CBF_01', 'P_NUMFLU']]\n",
    "    df_flu\n",
    "\n",
    "\n",
    "    # Spliting df by breastfed or not, droping na values\n",
    "    b_flu = df_flu[df_flu['CBF_01'] ==1].dropna()\n",
    "    nb_flu = df_flu[df_flu['CBF_01'] ==2].dropna()\n",
    "    \n",
    "    m_b_flu = b_flu['P_NUMFLU'].mean()\n",
    "    m_nb_flu = nb_flu['P_NUMFLU'].mean()\n",
    "\n",
    "    result = (m_b_flu, m_nb_flu)\n",
    "    return(result)\n",
    "\n",
    "average_influenza_doses()"
   ]
  },
  {
   "cell_type": "markdown",
   "id": "efd8e7f8",
   "metadata": {},
   "source": [
    "## Question 2\n",
    "#### It would be interesting to see if there is any evidence of a link between vaccine effectiveness and sex of the child. Calculate the ratio of the number of children who contracted chickenpox but were vaccinated against it (at least one varicella dose) versus those who were vaccinated but did not contract chicken pox. Return results by sex.\n",
    "\n",
    "This function should return a dictionary in the form of (use the correct numbers):\n",
    "\n",
    "    {\"male\":0.2,\n",
    "    \"female\":0.4}\n",
    "    \n",
    "Note: To aid in verification, the chickenpox_by_sex()['female'] value the autograder is looking for starts with the digits 0.0077."
   ]
  },
  {
   "cell_type": "code",
   "execution_count": 186,
   "id": "8c028051",
   "metadata": {},
   "outputs": [
    {
     "data": {
      "text/html": [
       "<div>\n",
       "<style scoped>\n",
       "    .dataframe tbody tr th:only-of-type {\n",
       "        vertical-align: middle;\n",
       "    }\n",
       "\n",
       "    .dataframe tbody tr th {\n",
       "        vertical-align: top;\n",
       "    }\n",
       "\n",
       "    .dataframe thead th {\n",
       "        text-align: right;\n",
       "    }\n",
       "</style>\n",
       "<table border=\"1\" class=\"dataframe\">\n",
       "  <thead>\n",
       "    <tr style=\"text-align: right;\">\n",
       "      <th></th>\n",
       "      <th>SEX</th>\n",
       "      <th>P_NUMVRC</th>\n",
       "      <th>HAD_CPOX</th>\n",
       "    </tr>\n",
       "  </thead>\n",
       "  <tbody>\n",
       "    <tr>\n",
       "      <th>0</th>\n",
       "      <td>1</td>\n",
       "      <td>NaN</td>\n",
       "      <td>2</td>\n",
       "    </tr>\n",
       "    <tr>\n",
       "      <th>1</th>\n",
       "      <td>1</td>\n",
       "      <td>NaN</td>\n",
       "      <td>2</td>\n",
       "    </tr>\n",
       "    <tr>\n",
       "      <th>2</th>\n",
       "      <td>2</td>\n",
       "      <td>NaN</td>\n",
       "      <td>2</td>\n",
       "    </tr>\n",
       "    <tr>\n",
       "      <th>3</th>\n",
       "      <td>2</td>\n",
       "      <td>1.0</td>\n",
       "      <td>2</td>\n",
       "    </tr>\n",
       "    <tr>\n",
       "      <th>4</th>\n",
       "      <td>2</td>\n",
       "      <td>0.0</td>\n",
       "      <td>2</td>\n",
       "    </tr>\n",
       "    <tr>\n",
       "      <th>...</th>\n",
       "      <td>...</td>\n",
       "      <td>...</td>\n",
       "      <td>...</td>\n",
       "    </tr>\n",
       "    <tr>\n",
       "      <th>28460</th>\n",
       "      <td>2</td>\n",
       "      <td>NaN</td>\n",
       "      <td>2</td>\n",
       "    </tr>\n",
       "    <tr>\n",
       "      <th>28461</th>\n",
       "      <td>2</td>\n",
       "      <td>NaN</td>\n",
       "      <td>2</td>\n",
       "    </tr>\n",
       "    <tr>\n",
       "      <th>28462</th>\n",
       "      <td>2</td>\n",
       "      <td>NaN</td>\n",
       "      <td>2</td>\n",
       "    </tr>\n",
       "    <tr>\n",
       "      <th>28463</th>\n",
       "      <td>2</td>\n",
       "      <td>NaN</td>\n",
       "      <td>2</td>\n",
       "    </tr>\n",
       "    <tr>\n",
       "      <th>28464</th>\n",
       "      <td>2</td>\n",
       "      <td>NaN</td>\n",
       "      <td>2</td>\n",
       "    </tr>\n",
       "  </tbody>\n",
       "</table>\n",
       "<p>28465 rows × 3 columns</p>\n",
       "</div>"
      ],
      "text/plain": [
       "       SEX  P_NUMVRC  HAD_CPOX\n",
       "0        1       NaN         2\n",
       "1        1       NaN         2\n",
       "2        2       NaN         2\n",
       "3        2       1.0         2\n",
       "4        2       0.0         2\n",
       "...    ...       ...       ...\n",
       "28460    2       NaN         2\n",
       "28461    2       NaN         2\n",
       "28462    2       NaN         2\n",
       "28463    2       NaN         2\n",
       "28464    2       NaN         2\n",
       "\n",
       "[28465 rows x 3 columns]"
      ]
     },
     "execution_count": 186,
     "metadata": {},
     "output_type": "execute_result"
    }
   ],
   "source": [
    "# load in data and select vaccine, sex and chicken pox columns\n",
    "df = pd.read_csv('UofM Course/datasets/NISPUF17.csv')\n",
    "df = df[['SEX', 'P_NUMVRC', 'HAD_CPOX']]\n",
    "df"
   ]
  },
  {
   "cell_type": "code",
   "execution_count": 238,
   "id": "86bb7fba",
   "metadata": {},
   "outputs": [],
   "source": [
    "# Filter data for vaccinated against c-pox\n",
    "df_v = df[df['P_NUMVRC'].gt(0)].dropna()\n",
    "# Remove Vaccine Column to focus on sex diff\n",
    "df_x = df_v.loc[:, ['SEX', 'HAD_CPOX']]\n",
    "\n",
    "# Number of males who got c-pox and who didn't\n",
    "male_p = len(df_x[(df_x['HAD_CPOX']==1) & (df_x['SEX']==1)])\n",
    "male_np = len(df_x[(df_x['HAD_CPOX']==2) & (df_x['SEX']==1)])\n",
    "\n",
    "# Number of females who got c-pox and who didn't\n",
    "female_p = len(df_x[(df_x['HAD_CPOX']==1) & (df_x['SEX']==2)])\n",
    "female_np = len(df_x[(df_x['HAD_CPOX']==2) & (df_x['SEX']==2)])\n"
   ]
  },
  {
   "cell_type": "code",
   "execution_count": 241,
   "id": "9fab0a75",
   "metadata": {},
   "outputs": [
    {
     "name": "stdout",
     "output_type": "stream",
     "text": [
      "0.007731582786287381 0.009582863585118376\n"
     ]
    }
   ],
   "source": [
    "# Ratios\n",
    "male_r = male_p/(male_p+male_np)\n",
    "female_r = female_p/(female_p+female_np)\n",
    "\n",
    "print(female_r,male_r)"
   ]
  },
  {
   "cell_type": "markdown",
   "id": "9cbe1a2a",
   "metadata": {},
   "source": [
    "### Final Answer"
   ]
  },
  {
   "cell_type": "code",
   "execution_count": 244,
   "id": "a3619cdf",
   "metadata": {},
   "outputs": [
    {
     "data": {
      "text/plain": [
       "(0.007731582786287381, 0.009582863585118376)"
      ]
     },
     "execution_count": 244,
     "metadata": {},
     "output_type": "execute_result"
    }
   ],
   "source": [
    "def chickenpox_by_sex():\n",
    "    import pandas as pd\n",
    "    \n",
    "    #Reading in Data\n",
    "    df = pd.read_csv('UofM Course/datasets/NISPUF17.csv')\n",
    "    df = df[['SEX', 'P_NUMVRC', 'HAD_CPOX']]\n",
    "    \n",
    "    # Filter data for vaccinated against c-pox\n",
    "    df_v = df[df['P_NUMVRC'].gt(0)].dropna()\n",
    "    # Remove Vaccine Column to focus on sex diff\n",
    "    df_x = df_v.loc[:, ['SEX', 'HAD_CPOX']]\n",
    "\n",
    "    # Number of males who got c-pox and who didn't\n",
    "    male_p = len(df_x[(df_x['HAD_CPOX']==1) & (df_x['SEX']==1)])\n",
    "    male_np = len(df_x[(df_x['HAD_CPOX']==2) & (df_x['SEX']==1)])\n",
    "\n",
    "    # Number of females who got c-pox and who didn't\n",
    "    female_p = len(df_x[(df_x['HAD_CPOX']==1) & (df_x['SEX']==2)])\n",
    "    female_np = len(df_x[(df_x['HAD_CPOX']==2) & (df_x['SEX']==2)])\n",
    "    \n",
    "    #Ratios\n",
    "    male_r = male_p/(male_p+male_np)\n",
    "    female_r = female_p/(female_p+female_np)\n",
    "\n",
    "    return(female_r,male_r)\n",
    "\n",
    "chickenpox_by_sex()"
   ]
  },
  {
   "cell_type": "markdown",
   "id": "71b285d5",
   "metadata": {},
   "source": [
    "## Question 4\n",
    "A correlation is a statistical relationship between two variables. If we wanted to know if vaccines work, we might look at the correlation between the use of the vaccine and whether it results in prevention of the infection or disease [1]. In this question, you are to see if there is a correlation between having had the chicken pox and the number of chickenpox vaccine doses given (varicella).\n",
    "\n",
    "Some notes on interpreting the answer. The `had_chickenpox_column` is either `1` (for yes) or `2` (for no), and the `num_chickenpox_vaccine_column` is the number of doses a child has been given of the varicella vaccine. A positive correlation (e.g., `corr > 0`) means that an increase in `had_chickenpox_column` (which means more no’s) would also increase the values of `num_chickenpox_vaccine_column` (which means more doses of vaccine). If there is a negative correlation (e.g., `corr < 0`), it indicates that having had chickenpox is related to an increase in the number of vaccine doses.\n",
    "\n",
    "Also, `pval` is the probability that we observe a correlation between `had_chickenpox_column` and `num_chickenpox_vaccine_column` which is greater than or equal to a particular value occurred by chance. A small `pval` means that the observed correlation is highly unlikely to occur by chance. In this case, `pval` should be very small (will end in `e-18` indicating a very small number).\n",
    "\n",
    "[1] This isn’t really the full picture, since we are not looking at when the dose was given. It’s possible that children had chickenpox and then their parents went to get them the vaccine. Does this dataset have the data we would need to investigate the timing of the dose?"
   ]
  },
  {
   "cell_type": "code",
   "execution_count": 249,
   "id": "3c742a91",
   "metadata": {},
   "outputs": [
    {
     "data": {
      "text/html": [
       "<div>\n",
       "<style scoped>\n",
       "    .dataframe tbody tr th:only-of-type {\n",
       "        vertical-align: middle;\n",
       "    }\n",
       "\n",
       "    .dataframe tbody tr th {\n",
       "        vertical-align: top;\n",
       "    }\n",
       "\n",
       "    .dataframe thead th {\n",
       "        text-align: right;\n",
       "    }\n",
       "</style>\n",
       "<table border=\"1\" class=\"dataframe\">\n",
       "  <thead>\n",
       "    <tr style=\"text-align: right;\">\n",
       "      <th></th>\n",
       "      <th>P_NUMVRC</th>\n",
       "      <th>HAD_CPOX</th>\n",
       "    </tr>\n",
       "  </thead>\n",
       "  <tbody>\n",
       "    <tr>\n",
       "      <th>3</th>\n",
       "      <td>1.0</td>\n",
       "      <td>2</td>\n",
       "    </tr>\n",
       "    <tr>\n",
       "      <th>4</th>\n",
       "      <td>0.0</td>\n",
       "      <td>2</td>\n",
       "    </tr>\n",
       "    <tr>\n",
       "      <th>6</th>\n",
       "      <td>1.0</td>\n",
       "      <td>2</td>\n",
       "    </tr>\n",
       "    <tr>\n",
       "      <th>7</th>\n",
       "      <td>0.0</td>\n",
       "      <td>2</td>\n",
       "    </tr>\n",
       "    <tr>\n",
       "      <th>8</th>\n",
       "      <td>0.0</td>\n",
       "      <td>1</td>\n",
       "    </tr>\n",
       "    <tr>\n",
       "      <th>...</th>\n",
       "      <td>...</td>\n",
       "      <td>...</td>\n",
       "    </tr>\n",
       "    <tr>\n",
       "      <th>28446</th>\n",
       "      <td>1.0</td>\n",
       "      <td>2</td>\n",
       "    </tr>\n",
       "    <tr>\n",
       "      <th>28447</th>\n",
       "      <td>1.0</td>\n",
       "      <td>2</td>\n",
       "    </tr>\n",
       "    <tr>\n",
       "      <th>28449</th>\n",
       "      <td>1.0</td>\n",
       "      <td>2</td>\n",
       "    </tr>\n",
       "    <tr>\n",
       "      <th>28452</th>\n",
       "      <td>1.0</td>\n",
       "      <td>2</td>\n",
       "    </tr>\n",
       "    <tr>\n",
       "      <th>28454</th>\n",
       "      <td>1.0</td>\n",
       "      <td>2</td>\n",
       "    </tr>\n",
       "  </tbody>\n",
       "</table>\n",
       "<p>15286 rows × 2 columns</p>\n",
       "</div>"
      ],
      "text/plain": [
       "       P_NUMVRC  HAD_CPOX\n",
       "3           1.0         2\n",
       "4           0.0         2\n",
       "6           1.0         2\n",
       "7           0.0         2\n",
       "8           0.0         1\n",
       "...         ...       ...\n",
       "28446       1.0         2\n",
       "28447       1.0         2\n",
       "28449       1.0         2\n",
       "28452       1.0         2\n",
       "28454       1.0         2\n",
       "\n",
       "[15286 rows x 2 columns]"
      ]
     },
     "execution_count": 249,
     "metadata": {},
     "output_type": "execute_result"
    }
   ],
   "source": [
    "# Read in data, filter columns, remove NaNs and Nas (also 77, 99)\n",
    "df = df = pd.read_csv('UofM Course/datasets/NISPUF17.csv')\n",
    "df = df[['P_NUMVRC', 'HAD_CPOX']].dropna()\n",
    "df = df[df['HAD_CPOX'].lt(3)].dropna()\n",
    "df"
   ]
  },
  {
   "cell_type": "code",
   "execution_count": null,
   "id": "8ecc7100",
   "metadata": {},
   "outputs": [],
   "source": []
  }
 ],
 "metadata": {
  "kernelspec": {
   "display_name": "Python 3 (ipykernel)",
   "language": "python",
   "name": "python3"
  },
  "language_info": {
   "codemirror_mode": {
    "name": "ipython",
    "version": 3
   },
   "file_extension": ".py",
   "mimetype": "text/x-python",
   "name": "python",
   "nbconvert_exporter": "python",
   "pygments_lexer": "ipython3",
   "version": "3.10.4"
  }
 },
 "nbformat": 4,
 "nbformat_minor": 5
}
