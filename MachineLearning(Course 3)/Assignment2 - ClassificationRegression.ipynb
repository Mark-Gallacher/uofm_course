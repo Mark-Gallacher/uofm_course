{
 "cells": [
  {
   "cell_type": "code",
   "execution_count": 208,
   "id": "6b883c3c",
   "metadata": {},
   "outputs": [],
   "source": [
    "import pandas as pd\n",
    "import numpy as np\n",
    "import matplotlib.pyplot as plt\n",
    "from sklearn.model_selection import train_test_split, validation_curve\n",
    "from sklearn.preprocessing import PolynomialFeatures\n",
    "from sklearn.linear_model import Lasso, LinearRegression\n",
    "from sklearn.tree import DecisionTreeClassifier\n",
    "from sklearn.metrics import r2_score\n",
    "from sklearn.svm import SVC"
   ]
  },
  {
   "cell_type": "code",
   "execution_count": 148,
   "id": "1172e79e",
   "metadata": {},
   "outputs": [
    {
     "name": "stdout",
     "output_type": "stream",
     "text": [
      "C:\\Users\\markg\\Documents\\Python\\UofM_Course\n"
     ]
    },
    {
     "data": {
      "text/plain": [
       "'C:\\\\Users\\\\markg\\\\Documents\\\\Python\\\\UofM_Course'"
      ]
     },
     "execution_count": 148,
     "metadata": {},
     "output_type": "execute_result"
    }
   ],
   "source": [
    "from IPython.core.interactiveshell import InteractiveShell\n",
    "InteractiveShell.ast_node_interactivity = \"all\"\n",
    "\n",
    "%cd C:/Users/markg/Documents/Python/UofM_Course\n",
    "%pwd"
   ]
  },
  {
   "cell_type": "markdown",
   "id": "ea51c6b5",
   "metadata": {},
   "source": [
    "## Regression"
   ]
  },
  {
   "cell_type": "code",
   "execution_count": 153,
   "id": "33496380",
   "metadata": {},
   "outputs": [
    {
     "data": {
      "image/png": "[encoded data removed]",
      "text/plain": [
       "<Figure size 432x288 with 1 Axes>"
      ]
     },
     "metadata": {
      "needs_background": "light"
     },
     "output_type": "display_data"
    }
   ],
   "source": [
    "np.random.seed(0)\n",
    "n = 15\n",
    "x = np.linspace(0,10,n) + np.random.randn(n)/5\n",
    "y = np.sin(x)+x/6 + np.random.randn(n)/10\n",
    "\n",
    "\n",
    "X_train, X_test, y_train, y_test = train_test_split(x, y, random_state=0)\n",
    "\n",
    "# You can use this function to help you visualize the dataset by\n",
    "# plotting a scatterplot of the data points\n",
    "# in the training and test sets.\n",
    "def part1_scatter():\n",
    "#     import matplotlib.pyplot as plt\n",
    "#     %matplotlib notebook\n",
    "    plt.figure()\n",
    "    plt.scatter(X_train, y_train, label='training data')\n",
    "    plt.scatter(X_test, y_test, label='test data')\n",
    "    plt.legend(loc=4);\n",
    "    \n",
    "    \n",
    "# NOTE: Uncomment the function below to visualize the data, but be sure \n",
    "# to **re-comment it before submitting this assignment to the autograder**.   \n",
    "part1_scatter()"
   ]
  },
  {
   "cell_type": "code",
   "execution_count": 152,
   "id": "9393912c",
   "metadata": {
    "scrolled": true
   },
   "outputs": [
    {
     "data": {
      "text/plain": [
       "array([[ 2.53040195e-01,  2.69201547e-01,  2.85362899e-01,\n",
       "         3.01524251e-01,  3.17685603e-01,  3.33846955e-01,\n",
       "         3.50008306e-01,  3.66169658e-01,  3.82331010e-01,\n",
       "         3.98492362e-01,  4.14653714e-01,  4.30815066e-01,\n",
       "         4.46976417e-01,  4.63137769e-01,  4.79299121e-01,\n",
       "         4.95460473e-01,  5.11621825e-01,  5.27783177e-01,\n",
       "         5.43944529e-01,  5.60105880e-01,  5.76267232e-01,\n",
       "         5.92428584e-01,  6.08589936e-01,  6.24751288e-01,\n",
       "         6.40912640e-01,  6.57073992e-01,  6.73235343e-01,\n",
       "         6.89396695e-01,  7.05558047e-01,  7.21719399e-01,\n",
       "         7.37880751e-01,  7.54042103e-01,  7.70203454e-01,\n",
       "         7.86364806e-01,  8.02526158e-01,  8.18687510e-01,\n",
       "         8.34848862e-01,  8.51010214e-01,  8.67171566e-01,\n",
       "         8.83332917e-01,  8.99494269e-01,  9.15655621e-01,\n",
       "         9.31816973e-01,  9.47978325e-01,  9.64139677e-01,\n",
       "         9.80301028e-01,  9.96462380e-01,  1.01262373e+00,\n",
       "         1.02878508e+00,  1.04494644e+00,  1.06110779e+00,\n",
       "         1.07726914e+00,  1.09343049e+00,  1.10959184e+00,\n",
       "         1.12575320e+00,  1.14191455e+00,  1.15807590e+00,\n",
       "         1.17423725e+00,  1.19039860e+00,  1.20655995e+00,\n",
       "         1.22272131e+00,  1.23888266e+00,  1.25504401e+00,\n",
       "         1.27120536e+00,  1.28736671e+00,  1.30352807e+00,\n",
       "         1.31968942e+00,  1.33585077e+00,  1.35201212e+00,\n",
       "         1.36817347e+00,  1.38433482e+00,  1.40049618e+00,\n",
       "         1.41665753e+00,  1.43281888e+00,  1.44898023e+00,\n",
       "         1.46514158e+00,  1.48130294e+00,  1.49746429e+00,\n",
       "         1.51362564e+00,  1.52978699e+00,  1.54594834e+00,\n",
       "         1.56210969e+00,  1.57827105e+00,  1.59443240e+00,\n",
       "         1.61059375e+00,  1.62675510e+00,  1.64291645e+00,\n",
       "         1.65907781e+00,  1.67523916e+00,  1.69140051e+00,\n",
       "         1.70756186e+00,  1.72372321e+00,  1.73988457e+00,\n",
       "         1.75604592e+00,  1.77220727e+00,  1.78836862e+00,\n",
       "         1.80452997e+00,  1.82069132e+00,  1.83685268e+00,\n",
       "         1.85301403e+00],\n",
       "       [ 1.22989539e+00,  1.15143628e+00,  1.07722393e+00,\n",
       "         1.00717881e+00,  9.41221419e-01,  8.79272234e-01,\n",
       "         8.21251741e-01,  7.67080426e-01,  7.16678772e-01,\n",
       "         6.69967266e-01,  6.26866391e-01,  5.87296632e-01,\n",
       "         5.51178474e-01,  5.18432402e-01,  4.88978901e-01,\n",
       "         4.62738455e-01,  4.39631549e-01,  4.19578668e-01,\n",
       "         4.02500297e-01,  3.88316920e-01,  3.76949022e-01,\n",
       "         3.68317088e-01,  3.62341603e-01,  3.58943051e-01,\n",
       "         3.58041918e-01,  3.59558687e-01,  3.63413845e-01,\n",
       "         3.69527874e-01,  3.77821261e-01,  3.88214491e-01,\n",
       "         4.00628046e-01,  4.14982414e-01,  4.31198078e-01,\n",
       "         4.49195522e-01,  4.68895233e-01,  4.90217694e-01,\n",
       "         5.13083391e-01,  5.37412808e-01,  5.63126429e-01,\n",
       "         5.90144741e-01,  6.18388226e-01,  6.47777371e-01,\n",
       "         6.78232660e-01,  7.09674578e-01,  7.42023609e-01,\n",
       "         7.75200238e-01,  8.09124950e-01,  8.43718230e-01,\n",
       "         8.78900563e-01,  9.14592432e-01,  9.50714324e-01,\n",
       "         9.87186723e-01,  1.02393011e+00,  1.06086498e+00,\n",
       "         1.09791181e+00,  1.13499108e+00,  1.17202328e+00,\n",
       "         1.20892890e+00,  1.24562842e+00,  1.28204233e+00,\n",
       "         1.31809110e+00,  1.35369523e+00,  1.38877520e+00,\n",
       "         1.42325149e+00,  1.45704459e+00,  1.49007498e+00,\n",
       "         1.52226316e+00,  1.55352959e+00,  1.58379478e+00,\n",
       "         1.61297919e+00,  1.64100332e+00,  1.66778766e+00,\n",
       "         1.69325268e+00,  1.71731887e+00,  1.73990672e+00,\n",
       "         1.76093671e+00,  1.78032933e+00,  1.79800506e+00,\n",
       "         1.81388438e+00,  1.82788778e+00,  1.83993575e+00,\n",
       "         1.84994877e+00,  1.85784732e+00,  1.86355189e+00,\n",
       "         1.86698296e+00,  1.86806103e+00,  1.86670656e+00,\n",
       "         1.86284006e+00,  1.85638200e+00,  1.84725286e+00,\n",
       "         1.83537314e+00,  1.82066332e+00,  1.80304388e+00,\n",
       "         1.78243530e+00,  1.75875808e+00,  1.73193269e+00,\n",
       "         1.70187963e+00,  1.66851936e+00,  1.63177240e+00,\n",
       "         1.59155920e+00],\n",
       "       [-1.99554310e-01, -3.95192724e-03,  1.79851752e-01,\n",
       "         3.51005136e-01,  5.08831706e-01,  6.52819233e-01,\n",
       "         7.82609240e-01,  8.97986721e-01,  9.98870117e-01,\n",
       "         1.08530155e+00,  1.15743729e+00,  1.21553852e+00,\n",
       "         1.25996233e+00,  1.29115292e+00,  1.30963316e+00,\n",
       "         1.31599632e+00,  1.31089811e+00,  1.29504889e+00,\n",
       "         1.26920626e+00,  1.23416782e+00,  1.19076415e+00,\n",
       "         1.13985218e+00,  1.08230867e+00,  1.01902405e+00,\n",
       "         9.50896441e-01,  8.78825970e-01,  8.03709344e-01,\n",
       "         7.26434655e-01,  6.47876457e-01,  5.68891088e-01,\n",
       "         4.90312256e-01,  4.12946874e-01,  3.37571147e-01,\n",
       "         2.64926923e-01,  1.95718291e-01,  1.30608438e-01,\n",
       "         7.02167560e-02,  1.51162118e-02, -3.41690366e-02,\n",
       "        -7.71657636e-02, -1.13453547e-01, -1.42666382e-01,\n",
       "        -1.64494044e-01, -1.78683194e-01, -1.85038228e-01,\n",
       "        -1.83421873e-01, -1.73755533e-01, -1.56019368e-01,\n",
       "        -1.30252132e-01, -9.65507462e-02, -5.50696232e-02,\n",
       "        -6.01973198e-03,  5.03325883e-02,  1.13667071e-01,\n",
       "         1.83611221e-01,  2.59742264e-01,  3.41589357e-01,\n",
       "         4.28636046e-01,  5.20322987e-01,  6.16050916e-01,\n",
       "         7.15183874e-01,  8.17052690e-01,  9.20958717e-01,\n",
       "         1.02617782e+00,  1.13196463e+00,  1.23755703e+00,\n",
       "         1.34218093e+00,  1.44505526e+00,  1.54539723e+00,\n",
       "         1.64242789e+00,  1.73537785e+00,  1.82349336e+00,\n",
       "         1.90604254e+00,  1.98232198e+00,  2.05166348e+00,\n",
       "         2.11344114e+00,  2.16707864e+00,  2.21205680e+00,\n",
       "         2.24792141e+00,  2.27429129e+00,  2.29086658e+00,\n",
       "         2.29743739e+00,  2.29389257e+00,  2.28022881e+00,\n",
       "         2.25656001e+00,  2.22312684e+00,  2.18030664e+00,\n",
       "         2.12862347e+00,  2.06875850e+00,  2.00156065e+00,\n",
       "         1.92805743e+00,  1.84946605e+00,  1.76720485e+00,\n",
       "         1.68290491e+00,  1.59842194e+00,  1.51584842e+00,\n",
       "         1.43752602e+00,  1.36605824e+00,  1.30432333e+00,\n",
       "         1.25548743e+00],\n",
       "       [ 6.79502309e+00,  4.14319980e+00,  2.23123346e+00,\n",
       "         9.10495767e-01,  5.49805673e-02, -4.41344221e-01,\n",
       "        -6.66950208e-01, -6.94942651e-01, -5.85049378e-01,\n",
       "        -3.85418181e-01, -1.34235829e-01,  1.38818795e-01,\n",
       "         4.11275438e-01,  6.66715678e-01,  8.93747696e-01,\n",
       "         1.08510226e+00,  1.23684003e+00,  1.34766092e+00,\n",
       "         1.41830656e+00,  1.45104747e+00,  1.44924718e+00,\n",
       "         1.41699557e+00,  1.35880467e+00,  1.27936009e+00,\n",
       "         1.18332205e+00,  1.07517018e+00,  9.59086646e-01,\n",
       "         8.38872692e-01,  7.17893893e-01,  5.99049832e-01,\n",
       "         4.84764286e-01,  3.76992298e-01,  2.77240835e-01,\n",
       "         1.86600057e-01,  1.05782508e-01,  3.51678111e-02,\n",
       "        -2.51492512e-02, -7.53091667e-02, -1.15638249e-01,\n",
       "        -1.46600723e-01, -1.68753510e-01, -1.82704675e-01,\n",
       "        -1.89076308e-01, -1.88472402e-01, -1.81452154e-01,\n",
       "        -1.68508907e-01, -1.50054849e-01, -1.26411405e-01,\n",
       "        -9.78051602e-02, -6.43690290e-02, -2.61482831e-02,\n",
       "         1.68890390e-02,  6.48378916e-02,  1.17838769e-01,\n",
       "         1.76057712e-01,  2.39664485e-01,  3.08809667e-01,\n",
       "         3.83601408e-01,  4.64082626e-01,  5.50209387e-01,\n",
       "         6.41831205e-01,  7.38673980e-01,  8.40326214e-01,\n",
       "         9.46229127e-01,  1.05567120e+00,  1.16778761e+00,\n",
       "         1.28156490e+00,  1.39585119e+00,  1.50937200e+00,\n",
       "         1.62075182e+00,  1.72854114e+00,  1.83124878e+00,\n",
       "         1.92737912e+00,  2.01547344e+00,  2.09415471e+00,\n",
       "         2.16217476e+00,  2.21846267e+00,  2.26217281e+00,\n",
       "         2.29273100e+00,  2.30987673e+00,  2.31369928e+00,\n",
       "         2.30466539e+00,  2.28363549e+00,  2.25186564e+00,\n",
       "         2.21099179e+00,  2.16299254e+00,  2.11012657e+00,\n",
       "         2.05484024e+00,  1.99964067e+00,  1.94692931e+00,\n",
       "         1.89879029e+00,  1.85672801e+00,  1.82134733e+00,\n",
       "         1.79197003e+00,  1.76618005e+00,  1.73929031e+00,\n",
       "         1.70372274e+00,  1.64829330e+00,  1.55739289e+00,\n",
       "         1.41005466e+00]])"
      ]
     },
     "execution_count": 152,
     "metadata": {},
     "output_type": "execute_result"
    }
   ],
   "source": [
    "# question 1\n",
    "\n",
    "predict_input = np.linspace(0,10,100).reshape(100,1)\n",
    "predict_output = np.zeros((4,100))\n",
    "\n",
    "for i in range(4):   \n",
    "    deg = [1,3,6,9]\n",
    "    \n",
    "    poly = PolynomialFeatures(degree = deg[i])\n",
    "\n",
    "    X_train = X_train.reshape(len(X_train), 1)\n",
    "    X_train_poly = poly.fit_transform(X_train)\n",
    "    \n",
    "    predict_input_poly = poly.fit_transform(predict_input)\n",
    "\n",
    "    linreg = LinearRegression().fit(X_train_poly, y_train)\n",
    "\n",
    "    predict_output[i] = linreg.predict(predict_input_poly)\n",
    "\n",
    "predict_output"
   ]
  },
  {
   "cell_type": "code",
   "execution_count": 151,
   "id": "74dffc51",
   "metadata": {},
   "outputs": [
    {
     "data": {
      "text/plain": [
       "(array([0.        , 0.42924578, 0.4510998 , 0.58719954, 0.91941945,\n",
       "        0.97578641, 0.99018233, 0.99352509, 0.99637545, 0.99803706]),\n",
       " array([-0.47808642, -0.45237104, -0.06856984,  0.00533105,  0.73004943,\n",
       "         0.87708301,  0.9214094 ,  0.92021504,  0.63247953, -0.64525322]))"
      ]
     },
     "execution_count": 151,
     "metadata": {},
     "output_type": "execute_result"
    }
   ],
   "source": [
    "# question 2\n",
    "\n",
    "r2_train = np.zeros((10))\n",
    "r2_test = np.zeros((10))\n",
    "result = np.zeros((10,2))\n",
    "\n",
    "for i in range(10):\n",
    "    poly = PolynomialFeatures(degree = i)\n",
    "\n",
    "    X_train = X_train.reshape(len(X_train), 1)\n",
    "    X_train_poly = poly.fit_transform(X_train)\n",
    "    X_test = X_test.reshape(len(X_test), 1)\n",
    "    X_test_poly = poly.fit_transform(X_test)\n",
    "\n",
    "    linreg = LinearRegression().fit(X_train_poly, y_train)\n",
    "    \n",
    "    r2_train[i] = linreg.score(X_train_poly, y_train)\n",
    "    r2_test[i] = linreg.score(X_test_poly, y_test)\n",
    "\n",
    "    result = (r2_train, r2_test)\n",
    "\n",
    "result"
   ]
  },
  {
   "cell_type": "code",
   "execution_count": 121,
   "id": "c84d9514",
   "metadata": {},
   "outputs": [
    {
     "data": {
      "text/plain": [
       "[<matplotlib.lines.Line2D at 0x267f91818d0>]"
      ]
     },
     "execution_count": 121,
     "metadata": {},
     "output_type": "execute_result"
    },
    {
     "data": {
      "image/png": "[encoded data removed]",
      "text/plain": [
       "<Figure size 432x288 with 1 Axes>"
      ]
     },
     "metadata": {
      "needs_background": "light"
     },
     "output_type": "display_data"
    }
   ],
   "source": [
    "plt.figure()\n",
    "plt.plot(result[0])\n",
    "plt.plot(result[1])"
   ]
  },
  {
   "cell_type": "code",
   "execution_count": 150,
   "id": "780f7e16",
   "metadata": {},
   "outputs": [
    {
     "name": "stderr",
     "output_type": "stream",
     "text": [
      "C:\\Users\\markg\\Documents\\Python\\UofM_Course\\venv\\lib\\site-packages\\sklearn\\linear_model\\_coordinate_descent.py:648: ConvergenceWarning: Objective did not converge. You might want to increase the number of iterations, check the scale of the features or consider increasing regularisation. Duality gap: 3.556e-01, tolerance: 6.895e-04\n",
      "  model = cd_fast.enet_coordinate_descent(\n"
     ]
    },
    {
     "data": {
      "text/plain": [
       "(-4.311955012614152, 0.8406625614750236)"
      ]
     },
     "execution_count": 150,
     "metadata": {},
     "output_type": "execute_result"
    }
   ],
   "source": [
    "poly = PolynomialFeatures(degree = 12)\n",
    "\n",
    "X_train = X_train.reshape(len(X_train), 1)\n",
    "X_train_poly = poly.fit_transform(X_train)\n",
    "X_test = X_test.reshape(len(X_test), 1)\n",
    "X_test_poly = poly.fit_transform(X_test)\n",
    "\n",
    "linreg = LinearRegression().fit(X_train_poly, y_train)\n",
    "lassoreg = Lasso(alpha=0.01, max_iter=10000).fit(X_train_poly, y_train)\n",
    "\n",
    "r2_test = linreg.score(X_test_poly, y_test)\n",
    "r2_test_lasso = lassoreg.score(X_test_poly, y_test)\n",
    "\n",
    "result = (r2_test, r2_test_lasso)\n",
    "result"
   ]
  },
  {
   "cell_type": "markdown",
   "id": "2d102336",
   "metadata": {},
   "source": [
    "## Classification"
   ]
  },
  {
   "cell_type": "code",
   "execution_count": 156,
   "id": "0c159e8a",
   "metadata": {},
   "outputs": [],
   "source": [
    "mush_df = pd.read_csv('./datasets/ML/mushrooms.csv')\n",
    "mush_df2 = pd.get_dummies(mush_df)\n",
    "\n",
    "X_mush = mush_df2.iloc[:,2:]\n",
    "y_mush = mush_df2.iloc[:,1]\n",
    "\n",
    "# use the variables X_train2, y_train2 for Question 5\n",
    "X_train2, X_test2, y_train2, y_test2 = train_test_split(X_mush, y_mush, random_state=0)\n",
    "\n",
    "X_subset = X_test2\n",
    "y_subset = y_test2"
   ]
  },
  {
   "cell_type": "markdown",
   "id": "b21d4266",
   "metadata": {},
   "source": [
    "For performance reasons in Questions 6 and 7, we will create a smaller version of the entire mushroom dataset for use in those questions.  For simplicity we'll just re-use the 25% test split created above as the representative subset.\n",
    "\n",
    "**Use the variables X_subset, y_subset for Questions 6 and 7.**"
   ]
  },
  {
   "cell_type": "code",
   "execution_count": 207,
   "id": "5679b1d6",
   "metadata": {},
   "outputs": [
    {
     "data": {
      "text/plain": [
       "['odor_n', 'stalk-root_c', 'stalk-root_r', 'spore-print-color_r', 'odor_l']"
      ]
     },
     "execution_count": 207,
     "metadata": {},
     "output_type": "execute_result"
    }
   ],
   "source": [
    "clf = DecisionTreeClassifier(random_state=0).fit(X_train2, y_train2)\n",
    "\n",
    "importance = clf.feature_importances_\n",
    "cols = X_train2.columns\n",
    "\n",
    "top5 = (pd.DataFrame({'importance':importance}, index = cols)\n",
    "      .sort_values('importance', ascending = False)\n",
    "      .head(5)\n",
    "      .index\n",
    "      .tolist()\n",
    "     )\n",
    "top5"
   ]
  },
  {
   "cell_type": "code",
   "execution_count": null,
   "id": "7bdc1136",
   "metadata": {},
   "outputs": [],
   "source": [
    "gammas = np.logspace(-4,1,6)\n",
    "train_score, test_score = validation_curve(SVC(kernel='rbf', C = 1, random_state=0),\n",
    "                                           X_subset, y_subset, \n",
    "                                           param_range = gammas, \n",
    "                                           param_name = 'gamma',\n",
    "                                           scoring='accuracy',\n",
    "                                           cv = 3)\n",
    "\n",
    "train_mean = train_score.mean(axis = 1)\n",
    "test_mean = test_score.mean(axis = 1)\n",
    "result = (train_mean, test_mean)\n",
    "result"
   ]
  },
  {
   "cell_type": "code",
   "execution_count": 234,
   "id": "7046120f",
   "metadata": {},
   "outputs": [
    {
     "data": {
      "text/plain": [
       "[<matplotlib.lines.Line2D at 0x26783c98ee0>]"
      ]
     },
     "execution_count": 234,
     "metadata": {},
     "output_type": "execute_result"
    },
    {
     "data": {
      "text/plain": [
       "[<matplotlib.lines.Line2D at 0x26783751750>]"
      ]
     },
     "execution_count": 234,
     "metadata": {},
     "output_type": "execute_result"
    },
    {
     "data": {
      "image/png": "[encoded data removed]",
      "text/plain": [
       "<Figure size 432x288 with 1 Axes>"
      ]
     },
     "metadata": {
      "needs_background": "light"
     },
     "output_type": "display_data"
    }
   ],
   "source": [
    "plt.semilogx(gammas, result[0])\n",
    "plt.semilogx(gammas, result[1])"
   ]
  }
 ],
 "metadata": {
  "kernelspec": {
   "display_name": "Python 3 (ipykernel)",
   "language": "python",
   "name": "python3"
  },
  "language_info": {
   "codemirror_mode": {
    "name": "ipython",
    "version": 3
   },
   "file_extension": ".py",
   "mimetype": "text/x-python",
   "name": "python",
   "nbconvert_exporter": "python",
   "pygments_lexer": "ipython3",
   "version": "3.10.4"
  }
 },
 "nbformat": 4,
 "nbformat_minor": 5
}
