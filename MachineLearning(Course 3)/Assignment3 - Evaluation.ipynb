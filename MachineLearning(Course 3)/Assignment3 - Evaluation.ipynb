{
 "cells": [
  {
   "cell_type": "code",
   "execution_count": 1,
   "id": "13255f40",
   "metadata": {},
   "outputs": [],
   "source": [
    "import pandas as pd\n",
    "import numpy as np\n",
    "import matplotlib.pyplot as plt\n",
    "from sklearn.model_selection import train_test_split, GridSearchCV\n",
    "from sklearn.svm import SVC\n",
    "from sklearn.dummy import DummyClassifier\n",
    "from sklearn.metrics import accuracy_score, precision_score, recall_score, f1_score\n",
    "from sklearn.metrics import confusion_matrix, precision_recall_curve, roc_curve, auc\n",
    "from sklearn.linear_model import LogisticRegression\n"
   ]
  },
  {
   "cell_type": "code",
   "execution_count": null,
   "id": "a3bddedf",
   "metadata": {},
   "outputs": [],
   "source": [
    "\n"
   ]
  },
  {
   "cell_type": "code",
   "execution_count": 2,
   "id": "2f211c85",
   "metadata": {},
   "outputs": [],
   "source": [
    "import warnings\n",
    "warnings.filterwarnings('ignore')"
   ]
  },
  {
   "cell_type": "markdown",
   "id": "3fee7b85",
   "metadata": {},
   "source": [
    "### Question 1"
   ]
  },
  {
   "cell_type": "code",
   "execution_count": 4,
   "id": "6498df96",
   "metadata": {},
   "outputs": [
    {
     "name": "stdout",
     "output_type": "stream",
     "text": [
      "C:\\Users\\markg\\source\\repos\\uofm_course\n"
     ]
    }
   ],
   "source": [
    "%cd C:\\\\Users\\\\markg\\\\source\\\\repos\\\\uofm_course\\"
   ]
  },
  {
   "cell_type": "code",
   "execution_count": 5,
   "id": "d352a759",
   "metadata": {},
   "outputs": [
    {
     "data": {
      "text/plain": [
       "(0.016410823768035772, 0.9835891762319642)"
      ]
     },
     "execution_count": 5,
     "metadata": {},
     "output_type": "execute_result"
    }
   ],
   "source": [
    "df = pd.read_csv('./datasets/ML/fraud_data.csv')\n",
    "\n",
    "N = len(df.Class.values) \n",
    "T = (df.Class.values ==1).sum()/N\n",
    "F = (df.Class.values ==0).sum()/N\n",
    "\n",
    "result = (T,F)\n",
    "result"
   ]
  },
  {
   "cell_type": "code",
   "execution_count": 5,
   "id": "c69cea98",
   "metadata": {},
   "outputs": [],
   "source": [
    "X = df.iloc[:,:-1]\n",
    "y = df.iloc[:,-1]\n",
    "\n",
    "X_train, X_test, y_train, y_test = train_test_split(X, y, random_state=0)"
   ]
  },
  {
   "cell_type": "markdown",
   "id": "8695527e",
   "metadata": {},
   "source": [
    "### Question 2 "
   ]
  },
  {
   "cell_type": "code",
   "execution_count": 6,
   "id": "081d7bbf",
   "metadata": {},
   "outputs": [
    {
     "data": {
      "text/plain": [
       "(0.9852507374631269, 0.0)"
      ]
     },
     "execution_count": 6,
     "metadata": {},
     "output_type": "execute_result"
    }
   ],
   "source": [
    "dummy = DummyClassifier(strategy='most_frequent').fit(X_train, y_train)\n",
    "acc = dummy.score(X_test, y_test)\n",
    "\n",
    "y_score = dummy.predict(X_test)\n",
    "rec = recall_score(y_test, y_score)\n",
    "\n",
    "result = (acc,rec)\n",
    "result"
   ]
  },
  {
   "cell_type": "markdown",
   "id": "3e05d121",
   "metadata": {},
   "source": [
    "### Question 3"
   ]
  },
  {
   "cell_type": "code",
   "execution_count": 7,
   "id": "b3edddde",
   "metadata": {},
   "outputs": [
    {
     "data": {
      "text/plain": [
       "(0.9900442477876106, 0.35, 0.9333333333333333)"
      ]
     },
     "execution_count": 7,
     "metadata": {},
     "output_type": "execute_result"
    }
   ],
   "source": [
    "svc = SVC().fit(X_train, y_train)\n",
    "acc = svc.score(X_test, y_test)\n",
    "\n",
    "y_score = svc.predict(X_test)\n",
    "rec = recall_score(y_test, y_score)\n",
    "pre = precision_score(y_test, y_score)\n",
    "\n",
    "result = (acc,rec, pre)\n",
    "result"
   ]
  },
  {
   "cell_type": "markdown",
   "id": "24972389",
   "metadata": {},
   "source": [
    "### Quesion 4"
   ]
  },
  {
   "cell_type": "code",
   "execution_count": 8,
   "id": "a3e66450",
   "metadata": {},
   "outputs": [
    {
     "data": {
      "text/plain": [
       "array([[5320,   24],\n",
       "       [  14,   66]], dtype=int64)"
      ]
     },
     "execution_count": 8,
     "metadata": {},
     "output_type": "execute_result"
    }
   ],
   "source": [
    "svc = SVC(C= 1e9, gamma = 1e-7).fit(X_train, y_train)\n",
    "\n",
    "acc = svc.score(X_test, y_test)\n",
    "\n",
    "y_score = svc.decision_function(X_test) > -220\n",
    "\n",
    "confusion_matrix(y_test, y_score)\n"
   ]
  },
  {
   "cell_type": "markdown",
   "id": "f5b4c2d2",
   "metadata": {},
   "source": [
    "### Question 5 "
   ]
  },
  {
   "cell_type": "code",
   "execution_count": 9,
   "id": "06d7414b",
   "metadata": {},
   "outputs": [
    {
     "data": {
      "text/plain": [
       "(0.8125, 0.925)"
      ]
     },
     "execution_count": 9,
     "metadata": {},
     "output_type": "execute_result"
    }
   ],
   "source": [
    "lgclf = LogisticRegression().fit(X_train, y_train)\n",
    "\n",
    "y_score = lgclf.predict_proba(X_test)[:,1] # returns only the prob it is 1, ie that it is fraud\n",
    "\n",
    "#Precision-recall\n",
    "pre, rec, thr1 = precision_recall_curve(y_test, y_score)\n",
    "\n",
    "# ROC curve\n",
    "fpr, tpr, thr2 = roc_curve(y_test, y_score)\n",
    "\n",
    "recall = rec[np.abs(pre - 0.75).argmin()]\n",
    "tprate = tpr[np.abs(fpr - 0.16).argmin()]\n",
    "recall,tprate"
   ]
  },
  {
   "cell_type": "markdown",
   "id": "b43d5752",
   "metadata": {},
   "source": [
    "#### Graphs for Fun"
   ]
  },
  {
   "cell_type": "code",
   "execution_count": 10,
   "id": "75005dd5",
   "metadata": {
    "scrolled": true
   },
   "outputs": [
    {
     "data": {
      "image/png": "[encoded data removed]",
      "text/plain": [
       "<Figure size 432x288 with 1 Axes>"
      ]
     },
     "metadata": {
      "needs_background": "light"
     },
     "output_type": "display_data"
    },
    {
     "data": {
      "image/png": "[encoded data removed]",
      "text/plain": [
       "<Figure size 432x288 with 1 Axes>"
      ]
     },
     "metadata": {
      "needs_background": "light"
     },
     "output_type": "display_data"
    }
   ],
   "source": [
    "# Precision-Recall curve\n",
    "plt.figure()\n",
    "plt.xlim([-0.01, 1.00])\n",
    "plt.ylim([-0.01, 1.01])\n",
    "plt.plot(pre, rec)\n",
    "plt.axvline(x=0.75)\n",
    "plt.show();\n",
    "plt.close()\n",
    "\n",
    "# ROC curve\n",
    "plt.figure()\n",
    "plt.xlim([-0.01, 1.00])\n",
    "plt.ylim([-0.01, 1.01])\n",
    "plt.plot(fpr, tpr)\n",
    "plt.show();\n",
    "plt.close()"
   ]
  },
  {
   "cell_type": "markdown",
   "id": "f6d449d3",
   "metadata": {},
   "source": [
    "### Question 6"
   ]
  },
  {
   "cell_type": "markdown",
   "id": "a58d0c24",
   "metadata": {},
   "source": [
    "Perform a grid search over the parameters listed below for a Logisitic Regression classifier, using recall for scoring and the default 3-fold cross validation.\n",
    "\n",
    "'penalty': ['l1', 'l2']\n",
    "\n",
    "'C':[0.01, 0.1, 1, 10, 100]"
   ]
  },
  {
   "cell_type": "code",
   "execution_count": 15,
   "id": "3b660b11",
   "metadata": {},
   "outputs": [
    {
     "data": {
      "text/plain": [
       "array([0.69558442, 0.77168831, 0.80792208, 0.81155844, 0.80428571,\n",
       "       0.81149351, 0.80064935, 0.80064935, 0.80064935, 0.80064935])"
      ]
     },
     "execution_count": 15,
     "metadata": {},
     "output_type": "execute_result"
    }
   ],
   "source": [
    "params = {'penalty': ['l1','l2'], 'C':[0.01 ,0.1 ,1 ,10 ,100]}\n",
    "\n",
    "lg = LogisticRegression(solver='liblinear') # Default solver is lbfgs, which doesn't support l1 regularisation, \n",
    "                                            # liblinear does, but it compares one versus the rest\n",
    "                                            # Default solver was changed in a previous edition\n",
    "\n",
    "grid = GridSearchCV(lg, param_grid = params, scoring = 'recall', cv = 5, error_score = 'raise')\n",
    "\n",
    "grid.fit(X_train, y_train)\n",
    "grid.cv_results_['mean_test_score']\n",
    "\n",
    "# works on other notebook??\n",
    "## shouldn't be returning nan"
   ]
  },
  {
   "cell_type": "code",
   "execution_count": null,
   "id": "eb508ef8",
   "metadata": {},
   "outputs": [],
   "source": []
  },
  {
   "cell_type": "code",
   "execution_count": null,
   "id": "02217320",
   "metadata": {},
   "outputs": [],
   "source": []
  }
 ],
 "metadata": {
  "kernelspec": {
   "display_name": "Python 3 (ipykernel)",
   "language": "python",
   "name": "python3"
  },
  "language_info": {
   "codemirror_mode": {
    "name": "ipython",
    "version": 3
   },
   "file_extension": ".py",
   "mimetype": "text/x-python",
   "name": "python",
   "nbconvert_exporter": "python",
   "pygments_lexer": "ipython3",
   "version": "3.10.4"
  }
 },
 "nbformat": 4,
 "nbformat_minor": 5
}
